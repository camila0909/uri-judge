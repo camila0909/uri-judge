{
  "nbformat": 4,
  "nbformat_minor": 0,
  "metadata": {
    "colab": {
      "name": "Desafio 1001.ipynb",
      "provenance": [],
      "authorship_tag": "ABX9TyNH26SblR6mTmuW9EthKJ+O"
    },
    "kernelspec": {
      "name": "python3",
      "display_name": "Python 3"
    },
    "language_info": {
      "name": "python"
    }
  },
  "cells": [
    {
      "cell_type": "markdown",
      "metadata": {
        "id": "c25mOX9_q_ge"
      },
      "source": [
        "# **Desafio 1001 - Extremamente Básico**"
      ]
    },
    {
      "cell_type": "markdown",
      "metadata": {
        "id": "WCIMTi56rbPV"
      },
      "source": [
        "URI Online Judge | 1001\n",
        "##**Extremamente Básico** \n",
        "Adaptado por Neilor Tonin, URI  Brasil\n",
        "\n",
        "**Timelimit: 1**\n",
        "\n",
        "---\n",
        "Leia 2 valores inteiros e armazene-os nas variáveis **A** e **B**. Efetue a soma de **A** e **B** atribuindo o seu resultado na variável **X**. Imprima **X** conforme exemplo apresentado abaixo. Não apresente mensagem alguma além daquilo que está sendo especificado e não esqueça de imprimir o fim de linha após o resultado, caso contrário, você receberá \"*Presentation Error*\".\n",
        "\n",
        "###**Entrada**\n",
        "A entrada contém 2 valores inteiros.\n",
        "\n",
        "###**Saída**\n",
        "Imprima a mensagem \"X = \" (letra X maiúscula) seguido pelo valor da variável **X** e pelo final de linha. Cuide para que tenha um espaço antes e depois do sinal de igualdade, conforme o exemplo abaixo.\n",
        "\n",
        "Exemplos de Entrada   | Exemplos de Saída\n",
        ":-------------------: | :--------------:\n",
        "10                    |  \n",
        "9                     | **X = 19**\n",
        "-10                   |  \n",
        "4                     | **X = -6**\n",
        "15                    | \n",
        "-7                    | **X = 8**\n",
        "\n"
      ]
    },
    {
      "cell_type": "markdown",
      "metadata": {
        "id": "4G_35hZ32I4I"
      },
      "source": [
        "**PROBLEMA:** 1001 - Extremamente Básico\n",
        "\n",
        "**RESPOSTA:** Accepted\n",
        "\n",
        "**LINGUAGEM:** Python 3.4 (Python 3.4.3) [+1s]\n",
        "\n",
        "**TEMPO:** 0.020s\n",
        "\n",
        "**TAMANHO:** 201 Bytes\n",
        "\n",
        "**MEMÓRIA:** -\n",
        "\n",
        "**CODE GOLF:** 197 caracteres (+37 que a mediana)\n",
        "\n",
        "**SUBMISSÃO:** 18/07/2018 19:52:11"
      ]
    },
    {
      "cell_type": "code",
      "metadata": {
        "colab": {
          "base_uri": "https://localhost:8080/"
        },
        "id": "DkrikV3X1ssR",
        "outputId": "c5ace6cb-56b0-4b88-ce6f-5c3e6d83cb40"
      },
      "source": [
        "A = int(input())\n",
        "B = int(input())\n",
        "resultado = A+B\n",
        "print(\"X = \"+str(resultado))"
      ],
      "execution_count": 1,
      "outputs": [
        {
          "output_type": "stream",
          "text": [
            "54\n",
            "70\n",
            "X = 124\n"
          ],
          "name": "stdout"
        }
      ]
    },
    {
      "cell_type": "markdown",
      "metadata": {
        "id": "cDhdQtfe8KVj"
      },
      "source": [
        "Na solução acima, a saída está conforme o que foi pedido, no entanto, se eu chamar a variável **X**, ela não existe, pois a soma de **A** e **B** foi atribuída à variável **resultado**, vejamos:\n",
        "\n",
        "\n",
        "\n",
        "            print(X)\n",
        "            -----------------------------------\n",
        "            NameError: name 'X' is not defined\n",
        "\n",
        "Vamos corrigir essa falha e definir uma função que faça a mesma soma, mas melhore a saída no display.\n"
      ]
    },
    {
      "cell_type": "code",
      "metadata": {
        "colab": {
          "base_uri": "https://localhost:8080/"
        },
        "id": "r55fgcEw-8tX",
        "outputId": "8b1160e6-9342-4c79-8b7f-8ffa562b96b0"
      },
      "source": [
        "A = int(input())\n",
        "B = int(input())\n",
        "X = A+B\n",
        "print(\"X = \",X)"
      ],
      "execution_count": 4,
      "outputs": [
        {
          "output_type": "stream",
          "text": [
            "54\n",
            "48\n",
            "X =  102\n"
          ],
          "name": "stdout"
        }
      ]
    },
    {
      "cell_type": "code",
      "metadata": {
        "colab": {
          "base_uri": "https://localhost:8080/"
        },
        "id": "rCqgUqnP_G66",
        "outputId": "5d591702-d8c9-4a4a-f867-8db96d0a9695"
      },
      "source": [
        "print(X)"
      ],
      "execution_count": 5,
      "outputs": [
        {
          "output_type": "stream",
          "text": [
            "102\n"
          ],
          "name": "stdout"
        }
      ]
    },
    {
      "cell_type": "markdown",
      "metadata": {
        "id": "grxY420v5yYZ"
      },
      "source": [
        "## **Definindo uma Função Soma**"
      ]
    },
    {
      "cell_type": "code",
      "metadata": {
        "colab": {
          "base_uri": "https://localhost:8080/"
        },
        "id": "VQT03rHpxzmR",
        "outputId": "2adafd1a-97cf-4fdd-fd3c-32d9a0e49f3c"
      },
      "source": [
        "def funcao_soma(a,b):\n",
        "  X = a+b\n",
        "  return print('>>> O resultado de', a,'+', b ,'é', X)\n",
        "\n",
        "A = int(input('Digite um valor inteiro para a variável A: '))\n",
        "B = int(input('Digite um valor inteiro para a variável B: '))\n",
        "\n",
        "funcao_soma(A,B)"
      ],
      "execution_count": 6,
      "outputs": [
        {
          "output_type": "stream",
          "text": [
            "Digite um valor inteiro para a variável A: 54\n",
            "Digite um valor inteiro para a variável B: 105\n",
            ">>> O resultado de 54 + 105 é 159\n"
          ],
          "name": "stdout"
        }
      ]
    },
    {
      "cell_type": "code",
      "metadata": {
        "colab": {
          "base_uri": "https://localhost:8080/"
        },
        "id": "DrAFv6646cw-",
        "outputId": "0b2cff36-8390-4bc7-a930-6c807f259ce5"
      },
      "source": [
        "funcao_soma(-10,-40)"
      ],
      "execution_count": 7,
      "outputs": [
        {
          "output_type": "stream",
          "text": [
            ">>> O resultado de -10 + -40 é -50\n"
          ],
          "name": "stdout"
        }
      ]
    },
    {
      "cell_type": "code",
      "metadata": {
        "colab": {
          "base_uri": "https://localhost:8080/"
        },
        "id": "C17wHmc66iZA",
        "outputId": "814d37b7-4d6c-43cb-ea10-23d593bd6dea"
      },
      "source": [
        "funcao_soma(-10,15)"
      ],
      "execution_count": 8,
      "outputs": [
        {
          "output_type": "stream",
          "text": [
            ">>> O resultado de -10 + 15 é 5\n"
          ],
          "name": "stdout"
        }
      ]
    }
  ]
}