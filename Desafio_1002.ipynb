{
  "nbformat": 4,
  "nbformat_minor": 0,
  "metadata": {
    "colab": {
      "name": "Desafio 1002.ipynb",
      "provenance": [],
      "authorship_tag": "ABX9TyNLrjBBpn5B7fOxYjJhHQlj"
    },
    "kernelspec": {
      "name": "python3",
      "display_name": "Python 3"
    },
    "language_info": {
      "name": "python"
    }
  },
  "cells": [
    {
      "cell_type": "markdown",
      "metadata": {
        "id": "c25mOX9_q_ge"
      },
      "source": [
        "# **Desafio 1002 - Área do Círculo**"
      ]
    },
    {
      "cell_type": "markdown",
      "metadata": {
        "id": "WCIMTi56rbPV"
      },
      "source": [
        "URI Online Judge | 1002\n",
        "##**Área do Círculo** \n",
        " Adaptado por Neilor Tonin, URI  Brasil\n",
        "\n",
        "**Timelimit: 1**\n",
        "\n",
        "---\n",
        "A fórmula para calcular a área de uma circunferência é: **area = π. raio²**. Considerando para este problema que **π =** 3.14159:\n",
        "\n",
        "- Efetue o cálculo da área, elevando o valor de **raio** ao quadrado e multiplicando por **π**.\n",
        "\n",
        "###**Entrada**\n",
        "A entrada contém um valor de ponto flutuante (dupla precisão), no caso, a variável **raio**.\n",
        "\n",
        "###**Saída**\n",
        "Apresentar a mensagem \"A=\" seguido pelo valor da variável **area**, conforme exemplo abaixo, com 4 casas após o ponto decimal. Utilize variáveis de dupla precisão (double). Como todos os problemas, não esqueça de imprimir o fim de linha após o resultado, caso contrário, você receberá \"*Presentation Error*\".\n",
        "\n",
        "  Exemplos de Entrada   | Exemplos de Saída\n",
        "  :-------------------: | :--------------\n",
        "  2.00                  | **A=12.5664** \n",
        "  100.64                | **A=31819.3103**\n",
        "  150.00                | **A=70685.7750**\n",
        "\n",
        "\n"
      ]
    },
    {
      "cell_type": "markdown",
      "metadata": {
        "id": "aZtcbISOJEnn"
      },
      "source": [
        "## **Variável de dupla precisão**\n",
        "Veja:\n",
        "*   [stackoverflow](https://pt.stackoverflow.com/questions/177531/o-que-significa-uma-vari%C3%A1vel-de-dupla-precis%C3%A3o#:~:text=Normalmente%20chamada%20de%20double%20%2C%20%C3%A9,o%20double%20ocupa%208%20bytes.)\n",
        "*   [Alura - Precisão em Números Decimais](https://www.alura.com.br/artigos/precisao-numeros-decimais-python)\n"
      ]
    },
    {
      "cell_type": "markdown",
      "metadata": {
        "id": "AxmAcWFAI36b"
      },
      "source": [
        "![image.png](data:image/png;base64,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)"
      ]
    },
    {
      "cell_type": "markdown",
      "metadata": {
        "id": "4G_35hZ32I4I"
      },
      "source": [
        "##**Sumissão** \n",
        "**PROBLEMA:** 1002 - Área do Círculo\n",
        "\n",
        "---\n",
        "\n",
        "**RESPOSTA:** Accepted\n",
        "\n",
        "---\n",
        "\n",
        "**LINGUAGEM:** Python 3.4 (Python 3.4.3) [+1s]\n",
        "\n",
        "---\n",
        "\n",
        "**TEMPO:** 0.016s\n",
        "\n",
        "---\n",
        "\n",
        "**TAMANHO:** 210 Bytes\n",
        "\n",
        "---\n",
        "\n",
        "**MEMÓRIA:** -\n",
        "\n",
        "---\n",
        "\n",
        "**CODE GOLF:** 206 caracteres (+22 que a mediana)\n",
        "\n",
        "---\n",
        "\n",
        "**SUBMISSÃO:** 18/07/2018 20:00:31\n",
        "\n",
        "---"
      ]
    },
    {
      "cell_type": "code",
      "metadata": {
        "colab": {
          "base_uri": "https://localhost:8080/"
        },
        "id": "DkrikV3X1ssR",
        "outputId": "c65ae298-c252-47db-e97e-b2095c499ed5"
      },
      "source": [
        "raio = float(input())\n",
        "n = 3.14159\n",
        "area = n * raio ** 2\n",
        "print('A={:.4f}'.format(area))"
      ],
      "execution_count": 1,
      "outputs": [
        {
          "output_type": "stream",
          "text": [
            "2.00\n",
            "A=12.5664\n"
          ],
          "name": "stdout"
        }
      ]
    },
    {
      "cell_type": "code",
      "metadata": {
        "colab": {
          "base_uri": "https://localhost:8080/"
        },
        "id": "iUCLy882J9Q2",
        "outputId": "03290e93-f466-4504-ad32-58531c3af327"
      },
      "source": [
        "raio = float(input())\n",
        "n = 3.14159\n",
        "area = n * raio ** 2\n",
        "print('A={:.4f}'.format(area))"
      ],
      "execution_count": 3,
      "outputs": [
        {
          "output_type": "stream",
          "text": [
            "100.64\n",
            "A=31819.3103\n"
          ],
          "name": "stdout"
        }
      ]
    },
    {
      "cell_type": "code",
      "metadata": {
        "colab": {
          "base_uri": "https://localhost:8080/"
        },
        "id": "7yxuPohYKHMB",
        "outputId": "eef1e800-6ab6-4ec7-9aa6-4d418be7e656"
      },
      "source": [
        "raio = float(input())\n",
        "n = 3.14159\n",
        "area = n * raio ** 2\n",
        "print('A={:.4f}'.format(area))"
      ],
      "execution_count": 4,
      "outputs": [
        {
          "output_type": "stream",
          "text": [
            "150.00\n",
            "A=70685.7750\n"
          ],
          "name": "stdout"
        }
      ]
    },
    {
      "cell_type": "markdown",
      "metadata": {
        "id": "grxY420v5yYZ"
      },
      "source": [
        "## **Definindo uma de cálculo de área da circunferência**"
      ]
    },
    {
      "cell_type": "code",
      "metadata": {
        "colab": {
          "base_uri": "https://localhost:8080/"
        },
        "id": "VQT03rHpxzmR",
        "outputId": "104cddf5-4b8c-481e-f215-b60c9cfa06c7"
      },
      "source": [
        "def area_circunferencia(raio,pi=3.14159):\n",
        "  area = pi * raio ** 2\n",
        "  return print('>>> A área da circunferência de raio', raio, 'é {:.4f}'.format(area))\n",
        "\n",
        "raio = float(input('Digite o valor do raio da circunferência que deseja calcular a área: '))\n",
        "\n",
        "area_circunferencia(raio)"
      ],
      "execution_count": 5,
      "outputs": [
        {
          "output_type": "stream",
          "text": [
            "Digite o valor do raio da circunferência que deseja calcular a área: 2.00\n",
            ">>> A área da circunferência de raio 2.0 é 12.5664\n"
          ],
          "name": "stdout"
        }
      ]
    },
    {
      "cell_type": "code",
      "metadata": {
        "colab": {
          "base_uri": "https://localhost:8080/"
        },
        "id": "DrAFv6646cw-",
        "outputId": "c465972b-351d-42b6-e9fc-6cd91f6ce673"
      },
      "source": [
        "area_circunferencia(100.64)"
      ],
      "execution_count": 6,
      "outputs": [
        {
          "output_type": "stream",
          "text": [
            ">>> A área da circunferência de raio 100.64 é 31819.3103\n"
          ],
          "name": "stdout"
        }
      ]
    },
    {
      "cell_type": "code",
      "metadata": {
        "colab": {
          "base_uri": "https://localhost:8080/"
        },
        "id": "C17wHmc66iZA",
        "outputId": "889504a6-d277-4179-8452-087b8d270e69"
      },
      "source": [
        "area_circunferencia(150.00,3.14) \n",
        "# O parâmetro 'pi' é opcional, quando não é declarado o seu valor é definido como pi = 3.14159."
      ],
      "execution_count": 7,
      "outputs": [
        {
          "output_type": "stream",
          "text": [
            ">>> A área da circunferência de raio 150.0 é 70650.0000\n"
          ],
          "name": "stdout"
        }
      ]
    },
    {
      "cell_type": "code",
      "metadata": {
        "id": "qmTIYAQcRn38"
      },
      "source": [
        "# Uma segunda opção para definir a função:\n",
        "\n",
        "def area_circunferencia(raio=raio,pi=3.14159):\n",
        "  raio = float(input('Digite o valor do raio da circunferência que deseja calcular a área: '))\n",
        "  area = pi * raio ** 2\n",
        "  return print('>>> A área da circunferência de raio', raio, 'é {:.4f}'.format(area))"
      ],
      "execution_count": 10,
      "outputs": []
    },
    {
      "cell_type": "code",
      "metadata": {
        "colab": {
          "base_uri": "https://localhost:8080/"
        },
        "id": "mafpiTW6R4oT",
        "outputId": "db36a3af-1d20-471c-e675-47889a9a994c"
      },
      "source": [
        "area_circunferencia()"
      ],
      "execution_count": 11,
      "outputs": [
        {
          "output_type": "stream",
          "text": [
            "Digite o valor do raio da circunferência que deseja calcular a área: 150.00\n",
            ">>> A área da circunferência de raio 150.0 é 70685.7750\n"
          ],
          "name": "stdout"
        }
      ]
    }
  ]
}