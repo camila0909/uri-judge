{
  "nbformat": 4,
  "nbformat_minor": 0,
  "metadata": {
    "colab": {
      "name": " Desafio 1004.ipynb",
      "provenance": [],
      "authorship_tag": "ABX9TyPBPGsjJRng78s6rU1b8VNw"
    },
    "kernelspec": {
      "name": "python3",
      "display_name": "Python 3"
    },
    "language_info": {
      "name": "python"
    }
  },
  "cells": [
    {
      "cell_type": "markdown",
      "metadata": {
        "id": "c25mOX9_q_ge"
      },
      "source": [
        "# **Desafio 1004 - Produto Simples**"
      ]
    },
    {
      "cell_type": "markdown",
      "metadata": {
        "id": "WCIMTi56rbPV"
      },
      "source": [
        "URI Online Judge | 1004\n",
        "##**Produto Simples** \n",
        "Adaptado por Neilor Tonin, URI  Brasil\n",
        "\n",
        "**Timelimit: 1**\n",
        "\n",
        "---\n",
        "Leia dois valores inteiros. A seguir, calcule o produto entre estes dois valores e atribua esta operação à variável **PROD**. A seguir mostre a variável **PROD** com mensagem correspondente.\n",
        "\n",
        "###**Entrada**\n",
        "O arquivo de entrada contém 2 valores inteiros.\n",
        "\n",
        "###**Saída**\n",
        "Imprima a mensagem \"PROD\" e a variável **PROD** conforme exemplo abaixo, com um espaço em branco antes e depois da igualdade. Não esqueça de imprimir o fim de linha após o produto, caso contrário seu programa apresentará a mensagem: \"*Presentation Error*\".\n",
        "\n",
        "Exemplos de Entrada   | Exemplos de Saída\n",
        ":-------------------: | :--------------\n",
        "3                     |  \n",
        "9                     | **PROD = 27**\n",
        "-30                   |  \n",
        "10                    | **PROD = -300**\n",
        "0                     | \n",
        "9                     | **PROD = 0**\n",
        "\n",
        "---\n"
      ]
    },
    {
      "cell_type": "markdown",
      "metadata": {
        "id": "4G_35hZ32I4I"
      },
      "source": [
        "##**Sumissão** \n",
        "**PROBLEMA:** 1004 - Produto Simples\n",
        "\n",
        "**RESPOSTA:** Accepted\n",
        "\n",
        "**LINGUAGEM:** Python 3.4 (Python 3.4.3) [+1s]\n",
        "\n",
        "**TEMPO:** 0.024s\n",
        "\n",
        "**TAMANHO:** 204 Bytes\n",
        "\n",
        "**MEMÓRIA:** -\n",
        "\n",
        "**CODE GOLF:** 200 caracteres (+35 que a mediana)\n",
        "\n",
        "**SUBMISSÃO:** 19/07/2018 00:21:49\n",
        "\n",
        "---\n"
      ]
    },
    {
      "cell_type": "code",
      "metadata": {
        "colab": {
          "base_uri": "https://localhost:8080/"
        },
        "id": "DkrikV3X1ssR",
        "outputId": "4b8b1fea-5fcc-44a1-ccf7-fc6505977a42"
      },
      "source": [
        "A = int(input())\n",
        "B = int(input())\n",
        "resultado = A*B\n",
        "print(\"PROD = \"+str(resultado))"
      ],
      "execution_count": 1,
      "outputs": [
        {
          "output_type": "stream",
          "text": [
            "3\n",
            "9\n",
            "PROD = 27\n"
          ],
          "name": "stdout"
        }
      ]
    },
    {
      "cell_type": "markdown",
      "metadata": {
        "id": "cDhdQtfe8KVj"
      },
      "source": [
        "Na solução acima, a saída está conforme o que foi pedido, no entanto, se eu chamar a variável **PROD**, ela não existe, pois o produto de **A** e **B** foi atribuído à variável **resultado**, vejamos:\n",
        "\n",
        "\n",
        "\n",
        "            print(PROD)\n",
        "            -----------------------------------\n",
        "            NameError: name 'PROD' is not defined\n",
        "\n",
        "Vamos corrigir essa falha e definir uma função que faça a mesma soma, mas melhore a saída no display.\n"
      ]
    },
    {
      "cell_type": "code",
      "metadata": {
        "colab": {
          "base_uri": "https://localhost:8080/"
        },
        "id": "r55fgcEw-8tX",
        "outputId": "b1efb47e-8764-47c5-969d-9216e40e3453"
      },
      "source": [
        "A = int(input())\n",
        "B = int(input())\n",
        "PROD = A*B\n",
        "print(\"PROD =\",PROD)"
      ],
      "execution_count": 2,
      "outputs": [
        {
          "output_type": "stream",
          "text": [
            "-30\n",
            "10\n",
            "PROD = -300\n"
          ],
          "name": "stdout"
        }
      ]
    },
    {
      "cell_type": "code",
      "metadata": {
        "colab": {
          "base_uri": "https://localhost:8080/"
        },
        "id": "rCqgUqnP_G66",
        "outputId": "f7a91b80-a46b-4dd4-82c5-cc6d5ea683f7"
      },
      "source": [
        "print(PROD)"
      ],
      "execution_count": 3,
      "outputs": [
        {
          "output_type": "stream",
          "text": [
            "-300\n"
          ],
          "name": "stdout"
        }
      ]
    },
    {
      "cell_type": "markdown",
      "metadata": {
        "id": "grxY420v5yYZ"
      },
      "source": [
        "## **Definindo a Função Produto**"
      ]
    },
    {
      "cell_type": "code",
      "metadata": {
        "colab": {
          "base_uri": "https://localhost:8080/"
        },
        "id": "VQT03rHpxzmR",
        "outputId": "c7efe2d5-fd8d-4161-880a-f66c51fa64c1"
      },
      "source": [
        "def funcao_produto(a,b):\n",
        "  produto = a*b\n",
        "  return print('>>> O resultado de',a,'*',b,'é', produto)\n",
        "\n",
        "A = int(input('Digite um valor inteiro para a variável A: '))\n",
        "B = int(input('Digite um valor inteiro para a variável B: '))\n",
        "\n",
        "funcao_produto(A,B)"
      ],
      "execution_count": 4,
      "outputs": [
        {
          "output_type": "stream",
          "text": [
            "Digite um valor inteiro para a variável A: 0\n",
            "Digite um valor inteiro para a variável B: 9\n",
            ">>> O resultado de 0 * 9 é 0\n"
          ],
          "name": "stdout"
        }
      ]
    },
    {
      "cell_type": "code",
      "metadata": {
        "colab": {
          "base_uri": "https://localhost:8080/"
        },
        "id": "DrAFv6646cw-",
        "outputId": "fb6425f4-b627-4aa0-9311-c9eee3019ace"
      },
      "source": [
        "funcao_produto(3,9)"
      ],
      "execution_count": 5,
      "outputs": [
        {
          "output_type": "stream",
          "text": [
            ">>> O resultado de 3 * 9 é 27\n"
          ],
          "name": "stdout"
        }
      ]
    },
    {
      "cell_type": "code",
      "metadata": {
        "colab": {
          "base_uri": "https://localhost:8080/"
        },
        "id": "C17wHmc66iZA",
        "outputId": "8086ecb2-7730-44e8-c5e0-f5b34d994272"
      },
      "source": [
        "funcao_produto(-30,10)"
      ],
      "execution_count": 6,
      "outputs": [
        {
          "output_type": "stream",
          "text": [
            ">>> O resultado de -30 * 10 é -300\n"
          ],
          "name": "stdout"
        }
      ]
    }
  ]
}
