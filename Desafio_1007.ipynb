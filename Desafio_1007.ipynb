{
  "nbformat": 4,
  "nbformat_minor": 0,
  "metadata": {
    "colab": {
      "name": "Desafio 1007.ipynb",
      "provenance": [],
      "authorship_tag": "ABX9TyPYDl19IlRbK/zvjPqfwf0T"
    },
    "kernelspec": {
      "name": "python3",
      "display_name": "Python 3"
    },
    "language_info": {
      "name": "python"
    }
  },
  "cells": [
    {
      "cell_type": "markdown",
      "metadata": {
        "id": "c25mOX9_q_ge"
      },
      "source": [
        "# **Desafio 1007 - Diferença**"
      ]
    },
    {
      "cell_type": "markdown",
      "metadata": {
        "id": "WCIMTi56rbPV"
      },
      "source": [
        "URI Online Judge | 1007\n",
        "##**Diferença** \n",
        "Adaptado por Neilor Tonin, URI  Brasil\n",
        "\n",
        "**Timelimit: 1**\n",
        "\n",
        "---\n",
        "Leia quatro valores inteiros A, B, C e D. A seguir, calcule e mostre a diferença do produto de A e B pelo produto de C e D segundo a fórmula: DIFERENCA = (A * B - C * D).\n",
        "\n",
        "###**Entrada**\n",
        "O arquivo de entrada contém 4 valores inteiros.\n",
        "\n",
        "###**Saída**\n",
        "Imprima a mensagem **DIFERENCA** com todas as letras maiúsculas, conforme exemplo abaixo, com um espaço em branco antes e depois da igualdade.\n",
        "\n",
        "Exemplos de Entrada   | Exemplos de Saída\n",
        ":-------------------: | :--------------:\n",
        "5                     |\n",
        "6                     |\n",
        "7                     |\n",
        "8                     | **DIFERENCA = -26**\n",
        "0                     |\n",
        "0                     |\n",
        "7                     |\n",
        "8                     | **DIFERENCA = -56**\n",
        "5                     |\n",
        "6                     |\n",
        "-7                    |\n",
        "8                     | **DIFERENCA = 86**\n",
        "\n",
        "---"
      ]
    },
    {
      "cell_type": "markdown",
      "metadata": {
        "id": "4G_35hZ32I4I"
      },
      "source": [
        "##**Sumissão** \n",
        "**PROBLEMA:** 1007 - Diferença\n",
        "\n",
        "**RESPOSTA:** Accepted\n",
        "\n",
        "**LINGUAGEM:** Python 3.4 (Python 3.4.3) [+1s]\n",
        "\n",
        "**TEMPO:** 0.020s\n",
        "\n",
        "**TAMANHO:** 253 Bytes\n",
        "\n",
        "**MEMÓRIA:** -\n",
        "\n",
        "**CODE GOLF:** 249 caracteres (+38 que a mediana)\n",
        "\n",
        "**SUBMISSÃO:** 20/07/2018 13:19:14\n",
        "\n",
        "---"
      ]
    },
    {
      "cell_type": "code",
      "metadata": {
        "colab": {
          "base_uri": "https://localhost:8080/"
        },
        "id": "DkrikV3X1ssR",
        "outputId": "1d3f07da-a919-4ece-d1c0-74b875c77990"
      },
      "source": [
        "A = int(input())\n",
        "B = int(input())\n",
        "C = int(input())\n",
        "D = int(input())\n",
        "DIFERENCA =(A * B - C * D)\n",
        "\n",
        "print ('DIFERENCA =',DIFERENCA)"
      ],
      "execution_count": 1,
      "outputs": [
        {
          "output_type": "stream",
          "text": [
            "5\n",
            "6\n",
            "7\n",
            "8\n",
            "DIFERENCA = -26\n"
          ],
          "name": "stdout"
        }
      ]
    },
    {
      "cell_type": "markdown",
      "metadata": {
        "id": "grxY420v5yYZ"
      },
      "source": [
        "## **Definindo algumas funções**"
      ]
    },
    {
      "cell_type": "code",
      "metadata": {
        "id": "CrTbhjvm3Fe_"
      },
      "source": [
        "def funcao_produto(a='',b=''):\n",
        "  if a == '' and b=='':\n",
        "    print('Digite os dois valores que deseja multiplicar')\n",
        "    A = int(input())\n",
        "    B = int(input())\n",
        "    X = A*B\n",
        "    return X\n",
        "  if a != '' and b !='':\n",
        "    X = a*b\n",
        "    return X\n",
        "\n",
        "def funcao_subtracao(a,b):\n",
        "  X = a-b\n",
        "  return print('>>> O resultado de', a,'-', b ,'é', X)\n",
        "\n",
        "def diferenca_produtos():\n",
        "  A = funcao_produto()\n",
        "  B = funcao_produto()\n",
        "  X = funcao_subtracao(A,B)\n",
        "  return X"
      ],
      "execution_count": 2,
      "outputs": []
    },
    {
      "cell_type": "code",
      "metadata": {
        "id": "DrAFv6646cw-"
      },
      "source": [
        "A = 3\n",
        "B = 5\n",
        "X = 35"
      ],
      "execution_count": 3,
      "outputs": []
    },
    {
      "cell_type": "code",
      "metadata": {
        "colab": {
          "base_uri": "https://localhost:8080/"
        },
        "id": "C17wHmc66iZA",
        "outputId": "9035908f-ead0-4932-d93c-4e32cf239824"
      },
      "source": [
        "funcao_produto(0,0)"
      ],
      "execution_count": 4,
      "outputs": [
        {
          "output_type": "execute_result",
          "data": {
            "text/plain": [
              "0"
            ]
          },
          "metadata": {
            "tags": []
          },
          "execution_count": 4
        }
      ]
    },
    {
      "cell_type": "code",
      "metadata": {
        "colab": {
          "base_uri": "https://localhost:8080/"
        },
        "id": "iHtTSyYa1rFl",
        "outputId": "ec1d0b61-53b8-4859-ba91-7b9887908651"
      },
      "source": [
        "print(A,B,X)  #A função não altera o valor atribuídos às variáveis A, B, e X."
      ],
      "execution_count": 5,
      "outputs": [
        {
          "output_type": "stream",
          "text": [
            "3 5 35\n"
          ],
          "name": "stdout"
        }
      ]
    },
    {
      "cell_type": "code",
      "metadata": {
        "colab": {
          "base_uri": "https://localhost:8080/"
        },
        "id": "JgwNuYGb9Kl8",
        "outputId": "1a1b4611-c8ab-4adf-c381-77eb47fec1a1"
      },
      "source": [
        "funcao_produto()"
      ],
      "execution_count": 6,
      "outputs": [
        {
          "output_type": "stream",
          "text": [
            "Digite os dois valores que deseja multiplicar\n",
            "-7\n",
            "8\n"
          ],
          "name": "stdout"
        },
        {
          "output_type": "execute_result",
          "data": {
            "text/plain": [
              "-56"
            ]
          },
          "metadata": {
            "tags": []
          },
          "execution_count": 6
        }
      ]
    },
    {
      "cell_type": "code",
      "metadata": {
        "colab": {
          "base_uri": "https://localhost:8080/"
        },
        "id": "e33JIzej9TbW",
        "outputId": "4738b60c-9589-40d0-eac3-ebe179a3d367"
      },
      "source": [
        "funcao_subtracao(35,40)"
      ],
      "execution_count": 7,
      "outputs": [
        {
          "output_type": "stream",
          "text": [
            ">>> O resultado de 35 - 40 é -5\n"
          ],
          "name": "stdout"
        }
      ]
    },
    {
      "cell_type": "code",
      "metadata": {
        "colab": {
          "base_uri": "https://localhost:8080/"
        },
        "id": "1jRmcujO9aKd",
        "outputId": "4562e4c6-ac34-486f-af31-eab8de168d78"
      },
      "source": [
        "diferenca_produtos()"
      ],
      "execution_count": 8,
      "outputs": [
        {
          "output_type": "stream",
          "text": [
            "Digite os dois valores que deseja multiplicar\n",
            "5\n",
            "6\n",
            "Digite os dois valores que deseja multiplicar\n",
            "-7\n",
            "8\n",
            ">>> O resultado de 30 - -56 é 86\n"
          ],
          "name": "stdout"
        }
      ]
    }
  ]
}