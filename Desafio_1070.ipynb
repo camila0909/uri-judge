{
  "nbformat": 4,
  "nbformat_minor": 0,
  "metadata": {
    "colab": {
      "name": "Desafio 1070.ipynb",
      "provenance": [],
      "authorship_tag": "ABX9TyOKI61zD2OoLH+XzAJxxWDW"
    },
    "kernelspec": {
      "name": "python3",
      "display_name": "Python 3"
    },
    "language_info": {
      "name": "python"
    }
  },
  "cells": [
    {
      "cell_type": "markdown",
      "metadata": {
        "id": "c25mOX9_q_ge"
      },
      "source": [
        "# **Desafio 1070 - Seis Números Ímpares**"
      ]
    },
    {
      "cell_type": "markdown",
      "metadata": {
        "id": "WCIMTi56rbPV"
      },
      "source": [
        "---\n",
        "Leia um valor inteiro **X**. Em seguida apresente os 6 valores ímpares consecutivos a partir de **X**, um valor por linha, inclusive o **X** ser for o caso.\n",
        "\n",
        "###**Entrada**\n",
        "A entrada será um valor inteiro positivo.\n",
        "\n",
        "###**Saída**\n",
        "A saída será uma sequência de seis números ímpares.\n",
        "\n",
        "Exemplos de Entrada   | Exemplos de Saída\n",
        ":-------------------: | :--------------:\n",
        "8                     | **9**\n",
        "                      | **11**\n",
        "                      | **13**\n",
        "                      | **15**\n",
        "                      | **17**\n",
        "                      | **19**\n",
        "\n",
        "---"
      ]
    },
    {
      "cell_type": "markdown",
      "metadata": {
        "id": "4G_35hZ32I4I"
      },
      "source": [
        "##**Submissão I** \n",
        "**LINGUAGEM:** Python 3.4 (Python 3.4.3) [+1s]\n",
        "\n",
        "**TEMPO:** 0.016s\n",
        "\n",
        "**TAMANHO:** 253 Bytes\n",
        "\n",
        "**MEMÓRIA:** -\n",
        "\n",
        "**CODE GOLF:** 435 caracteres (+181 que a mediana)\n",
        "\n",
        "**SUBMISSÃO:** 22/07/2018 01:45:23\n",
        "\n",
        "---"
      ]
    },
    {
      "cell_type": "code",
      "metadata": {
        "colab": {
          "base_uri": "https://localhost:8080/"
        },
        "id": "DkrikV3X1ssR",
        "outputId": "da850bb8-b835-48b4-fa9a-f4edc71ba7dd"
      },
      "source": [
        "X = int(input())\n",
        "if (X%2==0):\n",
        "    A = [X+1,X+3,X+5,X+7,X+9,X+11]\n",
        "    print(A[0])\n",
        "    print(A[1])\n",
        "    print(A[2])\n",
        "    print(A[3])\n",
        "    print(A[4])\n",
        "    print(A[5])\n",
        "else:\n",
        "    B = [X,X+2,X+4,X+6,X+8,X+10]    \n",
        "    print(B[0])\n",
        "    print(B[1])\n",
        "    print(B[2])\n",
        "    print(B[3])\n",
        "    print(B[4])\n",
        "    print(B[5])"
      ],
      "execution_count": 1,
      "outputs": [
        {
          "output_type": "stream",
          "text": [
            "5\n",
            "5\n",
            "7\n",
            "9\n",
            "11\n",
            "13\n",
            "15\n"
          ],
          "name": "stdout"
        }
      ]
    },
    {
      "cell_type": "markdown",
      "metadata": {
        "id": "dQNOn7t1CLWu"
      },
      "source": [
        "##**Submissão II** \n",
        "**LINGUAGEM:** Python 3.8 (Python 3.8.2) [+1s]\n",
        "\n",
        "**TEMPO:** 0.086s\n",
        "\n",
        "**TAMANHO:** 151 Bytes\n",
        "\n",
        "**MEMÓRIA:** -\n",
        "\n",
        "**CODE GOLF:** 0 caracteres (-250 que a mediana)\n",
        "\n",
        "**SUBMISSÃO:** 20/04/2021 17:43:54\n",
        "\n",
        "---"
      ]
    },
    {
      "cell_type": "code",
      "metadata": {
        "id": "CrTbhjvm3Fe_",
        "colab": {
          "base_uri": "https://localhost:8080/"
        },
        "outputId": "3e4c721f-512d-4db7-a824-877374a5c931"
      },
      "source": [
        "X = int(input())\n",
        "if (X%2==0):\n",
        "  for i in range(X+1,X+12,2):\n",
        "    print(i)\n",
        "else:\n",
        "   for i in range(X,X+11,2):\n",
        "    print(i)"
      ],
      "execution_count": 2,
      "outputs": [
        {
          "output_type": "stream",
          "text": [
            "8\n",
            "9\n",
            "11\n",
            "13\n",
            "15\n",
            "17\n",
            "19\n"
          ],
          "name": "stdout"
        }
      ]
    }
  ]
}