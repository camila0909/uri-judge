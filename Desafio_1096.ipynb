{
  "nbformat": 4,
  "nbformat_minor": 0,
  "metadata": {
    "colab": {
      "name": "Desafio 1096.ipynb",
      "provenance": [],
      "authorship_tag": "ABX9TyOf+uVfLBLVHcUtL2urTut6"
    },
    "kernelspec": {
      "name": "python3",
      "display_name": "Python 3"
    },
    "language_info": {
      "name": "python"
    }
  },
  "cells": [
    {
      "cell_type": "markdown",
      "metadata": {
        "id": "c25mOX9_q_ge"
      },
      "source": [
        "# **Desafio 1096 - Sequencia IJ 2**"
      ]
    },
    {
      "cell_type": "markdown",
      "metadata": {
        "id": "WCIMTi56rbPV"
      },
      "source": [
        "URI Online Judge | 1096\n",
        "##**Sequencia IJ 2** \n",
        "Adaptado por Neilor Tonin, URI  Brasil\n",
        "\n",
        "**Timelimit: 1**\n",
        "\n",
        "---\n",
        "Você deve fazer um programa que apresente a sequencia conforme o exemplo abaixo.\n",
        "\n",
        "###**Entrada**\n",
        "Não há nenhuma entrada neste problema.\n",
        "\n",
        "###**Saída**\n",
        "Imprima a sequencia conforme exemplo abaixo\n",
        "\n",
        "Exemplos de Entrada   | Exemplos de Saída\n",
        ":-------------------: | :--------------:\n",
        "                      | **I=1 J=7**\n",
        "                      | **I=1 J=6**\n",
        "                      | **I=1 J=5**\n",
        "                      | **I=3 J=7**\n",
        "                      | **I=3 J=6**\n",
        "                      | **I=3 J=5**\n",
        "                      | **...**\n",
        "                      | **I=9 J=7**\n",
        "                      | **I=9 J=6**\n",
        "                      | **I=9 J=5**\n",
        "                      \n",
        "---"
      ]
    },
    {
      "cell_type": "markdown",
      "metadata": {
        "id": "4G_35hZ32I4I"
      },
      "source": [
        "##**Sumissão** \n",
        "**PROBLEMA:** 1096 - Sequencia IJ 2\n",
        "\n",
        "**RESPOSTA:** Accepted\n",
        "\n",
        "**LINGUAGEM:** Python 3.4 (Python 3.4.3) [+1s]\n",
        "\n",
        "**TEMPO:** 0.016s\n",
        "\n",
        "**TAMANHO:** 236 Bytes\n",
        "\n",
        "**MEMÓRIA:** -\n",
        "\n",
        "**CODE GOLF:** 232 caracteres (+21 que a mediana)\n",
        "\n",
        "**SUBMISSÃO:** 19/07/2018 20:40:09\n",
        "\n",
        "---"
      ]
    },
    {
      "cell_type": "code",
      "metadata": {
        "colab": {
          "base_uri": "https://localhost:8080/"
        },
        "id": "DkrikV3X1ssR",
        "outputId": "cf4bd566-ecf9-4c24-c3c7-6e6df7a4ce41"
      },
      "source": [
        "I = sorted(3*list(range(1,10,2)))\n",
        "J = 5*[7,6,5]\n",
        "for i in range (len(J)):\n",
        "    print('I={} J={}'.format(I[i],J[i]))"
      ],
      "execution_count": 1,
      "outputs": [
        {
          "output_type": "stream",
          "text": [
            "I=1 J=7\n",
            "I=1 J=6\n",
            "I=1 J=5\n",
            "I=3 J=7\n",
            "I=3 J=6\n",
            "I=3 J=5\n",
            "I=5 J=7\n",
            "I=5 J=6\n",
            "I=5 J=5\n",
            "I=7 J=7\n",
            "I=7 J=6\n",
            "I=7 J=5\n",
            "I=9 J=7\n",
            "I=9 J=6\n",
            "I=9 J=5\n"
          ],
          "name": "stdout"
        }
      ]
    },
    {
      "cell_type": "markdown",
      "metadata": {
        "id": "cDhdQtfe8KVj"
      },
      "source": [
        "## **Passo a Passo**\n",
        "\n",
        "### **Função Range**\n",
        "\n",
        "Em vez de ser uma função, *range* é na verdade um tipo de sequência imutável, conforme documentado em [Ranges](https://docs.python.org/pt-br/3.6/library/stdtypes.html#typesseq-range) e [Tipos de sequência - lista, tupla intervalo](https://docs.python.org/pt-br/3.6/library/stdtypes.html#typesseq).\n",
        "\n",
        " ```\n",
        "range(stop)\n",
        "range(start, stop[, step])\n",
        "```\n",
        "#### **Parâmetros**\n",
        "\n",
        "*   **start** - início da sequência\n",
        "*   **stop[** - último elemento da sequência\n",
        "*   **step]** - intervalo entre os elementos\n",
        "\n",
        "Start e Step são parâmetros opcionais, quando não são declarados assumem os valores: start = 0 e step = 1.\n",
        "\n",
        "Stop é definido como intervalo aberto, logo, o número definido não estará contido na sequência.\n",
        "\n",
        "####**Intervalo aberto e intervalo fechado**\n",
        "\n",
        "*   **intervalo aberto ]a, b[**\n",
        "\n",
        "Todos os números no intervalo estarão contidos na sequência numérica, **exceto** os extremos.\n",
        "\n",
        ">**Exemplo:** ]0,10[ é o mesmo que (1, 2, 3, 4, 5, 6, 7, 8, 9)\n",
        "\n",
        "*   **Intervalo fechado: [a, b]** \n",
        "\n",
        "Todos os números no intervalo estarão contidos na sequência numérica, **inclusive** os extremos.\n",
        "\n",
        ">**Exemplo:** ]0,10[ é o mesmo que (0, 1, 2, 3, 4, 5, 6, 7, 8, 9, 10)\n",
        "\n",
        "Vejamos:"
      ]
    },
    {
      "cell_type": "code",
      "metadata": {
        "colab": {
          "base_uri": "https://localhost:8080/"
        },
        "id": "r55fgcEw-8tX",
        "outputId": "15e7a0f9-7105-4787-b933-d0f49622a7ba"
      },
      "source": [
        "#Atribui range à variável I\n",
        "\n",
        "I = range(1,10,2)\n",
        "print(I)"
      ],
      "execution_count": 2,
      "outputs": [
        {
          "output_type": "stream",
          "text": [
            "range(1, 10, 2)\n"
          ],
          "name": "stdout"
        }
      ]
    },
    {
      "cell_type": "code",
      "metadata": {
        "colab": {
          "base_uri": "https://localhost:8080/"
        },
        "id": "am9_4OoXKvDk",
        "outputId": "2f907214-3b96-4254-ef9b-4d2f703de495"
      },
      "source": [
        "#Converte o range em uma lista\n",
        "\n",
        "I = list(I)\n",
        "print(I)"
      ],
      "execution_count": 3,
      "outputs": [
        {
          "output_type": "stream",
          "text": [
            "[1, 3, 5, 7, 9]\n"
          ],
          "name": "stdout"
        }
      ]
    },
    {
      "cell_type": "code",
      "metadata": {
        "colab": {
          "base_uri": "https://localhost:8080/"
        },
        "id": "uW5tTFKvK-zj",
        "outputId": "8ab19146-0cc8-44f8-b7b8-dd541fe28d4b"
      },
      "source": [
        "#Concatena três listas iguais\n",
        "\n",
        "I = 3*I\n",
        "print(I)"
      ],
      "execution_count": 4,
      "outputs": [
        {
          "output_type": "stream",
          "text": [
            "[1, 3, 5, 7, 9, 1, 3, 5, 7, 9, 1, 3, 5, 7, 9]\n"
          ],
          "name": "stdout"
        }
      ]
    },
    {
      "cell_type": "code",
      "metadata": {
        "colab": {
          "base_uri": "https://localhost:8080/"
        },
        "id": "H7Io9m_OLdL-",
        "outputId": "fef9387e-25fa-4c89-c7f4-23a2cfc0c184"
      },
      "source": [
        "#Organiza a lista em ordem crescente\n",
        "\n",
        "I = sorted(I)\n",
        "print(I)"
      ],
      "execution_count": 5,
      "outputs": [
        {
          "output_type": "stream",
          "text": [
            "[1, 1, 1, 3, 3, 3, 5, 5, 5, 7, 7, 7, 9, 9, 9]\n"
          ],
          "name": "stdout"
        }
      ]
    },
    {
      "cell_type": "code",
      "metadata": {
        "colab": {
          "base_uri": "https://localhost:8080/"
        },
        "id": "VRuBdMBl86J8",
        "outputId": "eba48130-3dbb-48c4-dbfb-5cd7b1c67250"
      },
      "source": [
        "#Concatena 5 listas iguais e atribui à variável J\n",
        "\n",
        "J = 5*[7,6,5]\n",
        "print(J)"
      ],
      "execution_count": 6,
      "outputs": [
        {
          "output_type": "stream",
          "text": [
            "[7, 6, 5, 7, 6, 5, 7, 6, 5, 7, 6, 5, 7, 6, 5]\n"
          ],
          "name": "stdout"
        }
      ]
    },
    {
      "cell_type": "code",
      "metadata": {
        "colab": {
          "base_uri": "https://localhost:8080/"
        },
        "id": "G2MKE8GH9CBO",
        "outputId": "9639b749-6fb3-41d9-bb12-22943a34bbf6"
      },
      "source": [
        "J = sorted(J)\n",
        "print(J)"
      ],
      "execution_count": 7,
      "outputs": [
        {
          "output_type": "stream",
          "text": [
            "[5, 5, 5, 5, 5, 6, 6, 6, 6, 6, 7, 7, 7, 7, 7]\n"
          ],
          "name": "stdout"
        }
      ]
    },
    {
      "cell_type": "markdown",
      "metadata": {
        "id": "dN8RwehLM63m"
      },
      "source": [
        "Definidos os valores de I e J, vamos mandar imprimir primeiro valor de I ao primeiro valor de J, o segundo valor de I ao segundo valor de J e assim suscessivamente..."
      ]
    },
    {
      "cell_type": "code",
      "metadata": {
        "colab": {
          "base_uri": "https://localhost:8080/"
        },
        "id": "KoAd3VdK7yU-",
        "outputId": "8628b51e-6fb9-497e-bf92-2a2958c23413"
      },
      "source": [
        "for i in range (len(J)):\n",
        "    print('I={} J={}'.format(I[i],J[i]))"
      ],
      "execution_count": 8,
      "outputs": [
        {
          "output_type": "stream",
          "text": [
            "I=1 J=5\n",
            "I=1 J=5\n",
            "I=1 J=5\n",
            "I=3 J=5\n",
            "I=3 J=5\n",
            "I=3 J=6\n",
            "I=5 J=6\n",
            "I=5 J=6\n",
            "I=5 J=6\n",
            "I=7 J=6\n",
            "I=7 J=7\n",
            "I=7 J=7\n",
            "I=9 J=7\n",
            "I=9 J=7\n",
            "I=9 J=7\n"
          ],
          "name": "stdout"
        }
      ]
    },
    {
      "cell_type": "markdown",
      "metadata": {
        "id": "Fx3GRbQoPVvC"
      },
      "source": [
        "A partir do que vimos acima, vamos criar uma função com uma finalidade prática, por exemplo, imprimir uma tabuada de 0 a 10. Vejamos:\n",
        "\n",
        "## **Definindo uma função de tabuada de multiplicação**"
      ]
    },
    {
      "cell_type": "code",
      "metadata": {
        "id": "PqbEAxfwPUlC"
      },
      "source": [
        "def funcao_tabuada(multiplicador):\n",
        "  coeficientes = list(range(0,11))\n",
        "  #multiplicador = int(input('Digite um número inteiro para ver a tabuada de multiplicação: '))\n",
        "  resultado = []\n",
        "  for i in range(len(coeficientes)):\n",
        "    x = multiplicador*coeficientes[i]\n",
        "    resultado.append(x)\n",
        "    print('{} x {} = {}'.format(multiplicador,coeficientes[i],resultado[i]))"
      ],
      "execution_count": 9,
      "outputs": []
    },
    {
      "cell_type": "markdown",
      "metadata": {
        "id": "Xg5aFxntdzwn"
      },
      "source": [
        "**Tabuada do 1**"
      ]
    },
    {
      "cell_type": "code",
      "metadata": {
        "colab": {
          "base_uri": "https://localhost:8080/"
        },
        "id": "sQGzwgCsdxyf",
        "outputId": "1c2e9dcf-c911-47be-cd2a-e041ec297ce7"
      },
      "source": [
        "funcao_tabuada(1)"
      ],
      "execution_count": 10,
      "outputs": [
        {
          "output_type": "stream",
          "text": [
            "1 x 0 = 0\n",
            "1 x 1 = 1\n",
            "1 x 2 = 2\n",
            "1 x 3 = 3\n",
            "1 x 4 = 4\n",
            "1 x 5 = 5\n",
            "1 x 6 = 6\n",
            "1 x 7 = 7\n",
            "1 x 8 = 8\n",
            "1 x 9 = 9\n",
            "1 x 10 = 10\n"
          ],
          "name": "stdout"
        }
      ]
    },
    {
      "cell_type": "markdown",
      "metadata": {
        "id": "wZnRhSRZfV5V"
      },
      "source": [
        "**Tabuada do 2**"
      ]
    },
    {
      "cell_type": "code",
      "metadata": {
        "colab": {
          "base_uri": "https://localhost:8080/"
        },
        "id": "AfmfnveedXif",
        "outputId": "1ebd955f-c5ab-48f4-d668-c32297615cfd"
      },
      "source": [
        "funcao_tabuada(2)"
      ],
      "execution_count": 11,
      "outputs": [
        {
          "output_type": "stream",
          "text": [
            "2 x 0 = 0\n",
            "2 x 1 = 2\n",
            "2 x 2 = 4\n",
            "2 x 3 = 6\n",
            "2 x 4 = 8\n",
            "2 x 5 = 10\n",
            "2 x 6 = 12\n",
            "2 x 7 = 14\n",
            "2 x 8 = 16\n",
            "2 x 9 = 18\n",
            "2 x 10 = 20\n"
          ],
          "name": "stdout"
        }
      ]
    },
    {
      "cell_type": "markdown",
      "metadata": {
        "id": "re2o9ikAfc-o"
      },
      "source": [
        "**Tabuada do 3**"
      ]
    },
    {
      "cell_type": "code",
      "metadata": {
        "colab": {
          "base_uri": "https://localhost:8080/"
        },
        "id": "1xWy--5_daQY",
        "outputId": "df1e593a-571d-4670-e3d5-82caddcabc1d"
      },
      "source": [
        "funcao_tabuada(3)"
      ],
      "execution_count": 12,
      "outputs": [
        {
          "output_type": "stream",
          "text": [
            "3 x 0 = 0\n",
            "3 x 1 = 3\n",
            "3 x 2 = 6\n",
            "3 x 3 = 9\n",
            "3 x 4 = 12\n",
            "3 x 5 = 15\n",
            "3 x 6 = 18\n",
            "3 x 7 = 21\n",
            "3 x 8 = 24\n",
            "3 x 9 = 27\n",
            "3 x 10 = 30\n"
          ],
          "name": "stdout"
        }
      ]
    },
    {
      "cell_type": "markdown",
      "metadata": {
        "id": "fisOlj4Bfh0h"
      },
      "source": [
        "**Tabuada do 4**"
      ]
    },
    {
      "cell_type": "code",
      "metadata": {
        "colab": {
          "base_uri": "https://localhost:8080/"
        },
        "id": "zYNLElZhdcZ4",
        "outputId": "ce65ee21-30f8-4508-8e32-5f3c766c67ae"
      },
      "source": [
        "funcao_tabuada(4)"
      ],
      "execution_count": 13,
      "outputs": [
        {
          "output_type": "stream",
          "text": [
            "4 x 0 = 0\n",
            "4 x 1 = 4\n",
            "4 x 2 = 8\n",
            "4 x 3 = 12\n",
            "4 x 4 = 16\n",
            "4 x 5 = 20\n",
            "4 x 6 = 24\n",
            "4 x 7 = 28\n",
            "4 x 8 = 32\n",
            "4 x 9 = 36\n",
            "4 x 10 = 40\n"
          ],
          "name": "stdout"
        }
      ]
    },
    {
      "cell_type": "markdown",
      "metadata": {
        "id": "HJ6DgfBqfqgS"
      },
      "source": [
        "**Tabuada do 5**"
      ]
    },
    {
      "cell_type": "code",
      "metadata": {
        "colab": {
          "base_uri": "https://localhost:8080/"
        },
        "id": "GkYUdJc2diIS",
        "outputId": "66b9fb7c-29c1-45b7-aa95-8f407572083e"
      },
      "source": [
        "funcao_tabuada(5)"
      ],
      "execution_count": 14,
      "outputs": [
        {
          "output_type": "stream",
          "text": [
            "5 x 0 = 0\n",
            "5 x 1 = 5\n",
            "5 x 2 = 10\n",
            "5 x 3 = 15\n",
            "5 x 4 = 20\n",
            "5 x 5 = 25\n",
            "5 x 6 = 30\n",
            "5 x 7 = 35\n",
            "5 x 8 = 40\n",
            "5 x 9 = 45\n",
            "5 x 10 = 50\n"
          ],
          "name": "stdout"
        }
      ]
    },
    {
      "cell_type": "markdown",
      "metadata": {
        "id": "wcBNJHk2fwNa"
      },
      "source": [
        "**...**\n",
        "\n",
        "**Tabuada do 10**"
      ]
    },
    {
      "cell_type": "code",
      "metadata": {
        "colab": {
          "base_uri": "https://localhost:8080/"
        },
        "id": "4hqgFtyRf2ga",
        "outputId": "ff039fc9-a075-467f-a782-4e770b6aa6ab"
      },
      "source": [
        "funcao_tabuada(10)"
      ],
      "execution_count": 15,
      "outputs": [
        {
          "output_type": "stream",
          "text": [
            "10 x 0 = 0\n",
            "10 x 1 = 10\n",
            "10 x 2 = 20\n",
            "10 x 3 = 30\n",
            "10 x 4 = 40\n",
            "10 x 5 = 50\n",
            "10 x 6 = 60\n",
            "10 x 7 = 70\n",
            "10 x 8 = 80\n",
            "10 x 9 = 90\n",
            "10 x 10 = 100\n"
          ],
          "name": "stdout"
        }
      ]
    },
    {
      "cell_type": "markdown",
      "metadata": {
        "id": "i9Gghw5U1SdX"
      },
      "source": [
        "## **Referências**\n",
        "\n",
        "*   [Documentação Python](https://docs.python.org/pt-br/3.6/library/functions.html#func-range)\n",
        "\n",
        "*   [Excript](http://excript.com/python/funcao-range-python.html)\n",
        "\n"
      ]
    }
  ]
}